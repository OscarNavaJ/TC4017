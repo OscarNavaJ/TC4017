{
 "cells": [
  {
   "cell_type": "markdown",
   "id": "ZtMwBPYllOsO",
   "metadata": {
    "id": "ZtMwBPYllOsO"
   },
   "source": [
    "## **Proyecto - Base de datos de Big Data**\n",
    "\n",
    "Óscar Nava Jiménez\n",
    "A01745524"
   ]
  },
  {
   "cell_type": "markdown",
   "id": "9DHR_qmaTWQw",
   "metadata": {
    "id": "9DHR_qmaTWQw"
   },
   "source": [
    "## **Descripción de la Base de datos**\n",
    "\n",
    "Base de datos seleccionada: IBM Transactions for Anti-Money Laundering (AML), versión LI-Medium\n",
    "\n",
    "La base de datos está compuesta por aproximadamente 31 millones de transacciones, contiene una menor proporción de casos positivos de lavado de dinero respecto a las otras versiones.\n",
    "\n",
    "Se cuenta con información como: momento de la transacción, bancos y cuentas involucradas, montos ($) y monedas, formato y si la transacción se considera o no lavado de dinero."
   ]
  },
  {
   "cell_type": "markdown",
   "id": "4sJd8dqFlZPJ",
   "metadata": {
    "id": "4sJd8dqFlZPJ"
   },
   "source": [
    "# **Cargando el entorno de PySpark en Google Colab**"
   ]
  },
  {
   "cell_type": "code",
   "execution_count": 1,
   "id": "rScao98Dw63J",
   "metadata": {
    "id": "rScao98Dw63J"
   },
   "outputs": [
    {
     "name": "stdout",
     "output_type": "stream",
     "text": [
      "E: Could not open lock file /var/lib/dpkg/lock-frontend - open (13: Permission denied)\n",
      "E: Unable to acquire the dpkg frontend lock (/var/lib/dpkg/lock-frontend), are you root?\n"
     ]
    }
   ],
   "source": [
    "!apt-get install openjdk-8-jdk-headless -qq > /dev/null\n",
    "!wget -q http://archive.apache.org/dist/spark/spark-3.1.1/spark-3.1.1-bin-hadoop3.2.tgz\n",
    "!tar xf spark-3.1.1-bin-hadoop3.2.tgz\n",
    "!pip install -q findspark"
   ]
  },
  {
   "cell_type": "code",
   "execution_count": 2,
   "id": "dLEuWf3ixBKy",
   "metadata": {
    "colab": {
     "base_uri": "https://localhost:8080/"
    },
    "id": "dLEuWf3ixBKy",
    "outputId": "5cd225e2-e4b9-462a-9762-887514727f2e"
   },
   "outputs": [
    {
     "name": "stdout",
     "output_type": "stream",
     "text": [
      "LI-Medium_Trans.csv\t  spark-3.1.1-bin-hadoop3.2\t work\n",
      "Metricas_A01745524.ipynb  spark-3.1.1-bin-hadoop3.2.tgz\n"
     ]
    }
   ],
   "source": [
    "!ls"
   ]
  },
  {
   "cell_type": "code",
   "execution_count": 3,
   "id": "nbPLgGPyxI57",
   "metadata": {
    "colab": {
     "base_uri": "https://localhost:8080/",
     "height": 221
    },
    "id": "nbPLgGPyxI57",
    "outputId": "6ad24753-7c94-4b11-f8a3-507ad6328c11"
   },
   "outputs": [
    {
     "data": {
      "text/html": [
       "\n",
       "            <div>\n",
       "                <p><b>SparkSession - in-memory</b></p>\n",
       "                \n",
       "        <div>\n",
       "            <p><b>SparkContext</b></p>\n",
       "\n",
       "            <p><a href=\"http://12f4c29a8269:4040\">Spark UI</a></p>\n",
       "\n",
       "            <dl>\n",
       "              <dt>Version</dt>\n",
       "                <dd><code>v3.5.0</code></dd>\n",
       "              <dt>Master</dt>\n",
       "                <dd><code>local[*]</code></dd>\n",
       "              <dt>AppName</dt>\n",
       "                <dd><code>pyspark-shell</code></dd>\n",
       "            </dl>\n",
       "        </div>\n",
       "        \n",
       "            </div>\n",
       "        "
      ],
      "text/plain": [
       "<pyspark.sql.session.SparkSession at 0x7fb27464e410>"
      ]
     },
     "execution_count": 3,
     "metadata": {},
     "output_type": "execute_result"
    }
   ],
   "source": [
    "import findspark\n",
    "findspark.init()\n",
    "findspark.find()\n",
    "\n",
    "from pyspark import SparkContext, SparkConf, SQLContext\n",
    "from pyspark.sql import SparkSession\n",
    "spark = SparkSession.builder.master(\"local[*]\").config(\"spark.driver.memory\", \"16g\").config(\"spark.executor.memory\", \"32g\").getOrCreate()\n",
    "spark.conf.set(\"sparl.sql.repl.eagerEval.enabled\", True)\n",
    "spark"
   ]
  },
  {
   "cell_type": "code",
   "execution_count": 4,
   "id": "qntD8WzCZF_C",
   "metadata": {
    "id": "qntD8WzCZF_C"
   },
   "outputs": [],
   "source": [
    "import numpy as np\n",
    "import pandas as pd\n",
    "from pyspark.sql.functions import count, when, isnan, col\n",
    "import matplotlib.pyplot as plt\n",
    "import seaborn as sns\n",
    "from pyspark.sql.functions import mean, stddev, min, max"
   ]
  },
  {
   "cell_type": "code",
   "execution_count": 5,
   "id": "pn-tVaVm4guL",
   "metadata": {
    "id": "pn-tVaVm4guL"
   },
   "outputs": [],
   "source": [
    "df = spark.read.csv(\"LI-Medium_Trans.csv\",\n",
    "                    header=True, sep=\",\", inferSchema=True)"
   ]
  },
  {
   "cell_type": "markdown",
   "id": "cac11d02-5f90-4ba9-82ff-42d326a464f3",
   "metadata": {
    "id": "G1pVsjx2cMDO"
   },
   "source": [
    "# **1. Construcción de la muestra M**\n",
    "## **Selección de los Datos**"
   ]
  },
  {
   "cell_type": "code",
   "execution_count": 6,
   "id": "17442e4d-7649-4962-a041-e5d86c461913",
   "metadata": {},
   "outputs": [
    {
     "name": "stdout",
     "output_type": "stream",
     "text": [
      "Partición: Classic y America\n",
      "+----------------+---------+---------+-------+---------+---------------+------------------+-----------+----------------+--------------+-------------+\n",
      "|       Timestamp|From Bank| Account2|To Bank| Account4|Amount Received|Receiving Currency|Amount Paid|Payment Currency|Payment Format|Is Laundering|\n",
      "+----------------+---------+---------+-------+---------+---------------+------------------+-----------+----------------+--------------+-------------+\n",
      "|2022/09/01 00:23|     1208|80010E430|   1208|80010E430|        2654.22|         US Dollar|    2654.22|       US Dollar|  Reinvestment|            0|\n",
      "|2022/09/01 00:19|     3203|80010EA80|   3203|80010EA80|       13284.41|         US Dollar|   13284.41|       US Dollar|  Reinvestment|            0|\n",
      "|2022/09/01 00:29|       20|800104D70|     20|800104D70|           5.38|         US Dollar|       5.38|       US Dollar|  Reinvestment|            0|\n",
      "|2022/09/01 00:08|     1208|80010E430|   1208|80010E430|           7.66|         US Dollar|       7.66|       US Dollar|  Reinvestment|            0|\n",
      "|2022/09/01 00:15|       20|80010E6F0|  27365|8084250A0|         137.72|         US Dollar|     137.72|       US Dollar|   Credit Card|            0|\n",
      "|2022/09/01 00:05|       20|80010EA30|  18234|82BC4CE30|           1.24|         US Dollar|       1.24|       US Dollar|   Credit Card|            0|\n",
      "|2022/09/01 00:02|     3566|800345920|   3566|800345920|       10134.05|         US Dollar|   10134.05|       US Dollar|  Reinvestment|            0|\n",
      "|2022/09/01 00:27|        0|8009B22F0|      0|8009B22F0|        3236.71|         US Dollar|    3236.71|       US Dollar|  Reinvestment|            0|\n",
      "|2022/09/01 00:21|       11|8003289F0| 237264|810BA3240|           5.28|         US Dollar|       5.28|       US Dollar|   Credit Card|            0|\n",
      "|2022/09/01 00:29|       11|800329930|     11|800329930|          23.39|         US Dollar|      23.39|       US Dollar|  Reinvestment|            0|\n",
      "|2022/09/01 00:18|        0|800815DE0|      0|800815DE0|          19.97|         US Dollar|      19.97|       US Dollar|  Reinvestment|            0|\n",
      "|2022/09/01 00:24|    11081|8008DDDF0|  11081|8008DDDF0|          13.87|         US Dollar|      13.87|       US Dollar|  Reinvestment|            0|\n",
      "|2022/09/01 00:07|      544|8009B23E0|  87354|82023B780|         285.04|         US Dollar|     285.04|       US Dollar|   Credit Card|            0|\n",
      "|2022/09/01 00:19|     2597|8009B3400|   2597|8009B3400|     2585330.06|         US Dollar| 2585330.06|       US Dollar|  Reinvestment|            0|\n",
      "|2022/09/01 00:11|     3911|8009B3D60|   3911|8009B3D60|        7448.87|         US Dollar|    7448.87|       US Dollar|  Reinvestment|            0|\n",
      "|2022/09/01 00:07|     1601|8009B6B50|   1601|8009B6B50|        6519.09|         US Dollar|    6519.09|       US Dollar|  Reinvestment|            0|\n",
      "|2022/09/01 00:15|        0|8009B6D70|  15558|821313F60|           9.73|         US Dollar|       9.73|       US Dollar|   Credit Card|            0|\n",
      "|2022/09/01 00:01|     1831|800A5DFB0|  16100|8037BA980|           5.16|         US Dollar|       5.16|       US Dollar|   Credit Card|            0|\n",
      "|2022/09/01 00:25|     1046|800A5E0A0|   1046|800A5E0A0|          24.06|         US Dollar|      24.06|       US Dollar|  Reinvestment|            0|\n",
      "|2022/09/01 00:15|     2597|800AD14F0| 149163|820BEAB20|          36.77|         US Dollar|      36.77|       US Dollar|   Credit Card|            0|\n",
      "+----------------+---------+---------+-------+---------+---------------+------------------+-----------+----------------+--------------+-------------+\n",
      "only showing top 20 rows\n",
      "\n"
     ]
    }
   ],
   "source": [
    "# Se tomarán los datos únicamente de América con métodos de pago clásicos para reducir la cantidad de información a procesar\n",
    "Payment_Format_Classic = [\"Credit Card\",\"Cheque\",\"Cash\",\"Reinvestment\"]\n",
    "Payment_Currency_America = [\"Mexican Peso\", \"US Dollar\", \"Brazil Real\", \"Canadian Dollar\"]\n",
    "\n",
    "\n",
    "# Payment Format = Classic y Payment Currency = America\n",
    "# Partción M1 nombrada como df_part\n",
    "df_part = df.filter((col(\"Payment Format\").isin(Payment_Format_Classic)) & (col(\"Payment Currency\").isin(Payment_Currency_America)))\n",
    "print(\"Partición: Classic y America\")\n",
    "\n",
    "# Una vez realizada la partición M1 se tomara un muestreo aleatorio del 50% de datos resultantes para el procesamiento posterior\n",
    "df_part = df_part.sample(0.5,0)\n",
    "df_part.show()"
   ]
  },
  {
   "cell_type": "code",
   "execution_count": 7,
   "id": "b96a0ff3-21ce-4c66-a3b3-c808a52e6e43",
   "metadata": {},
   "outputs": [
    {
     "name": "stdout",
     "output_type": "stream",
     "text": [
      "Numero de elementos:  6053079\n"
     ]
    },
    {
     "data": {
      "text/plain": [
       "DataFrame[summary: string, Timestamp: string, From Bank: string, Account2: string, To Bank: string, Account4: string, Amount Received: string, Receiving Currency: string, Amount Paid: string, Payment Currency: string, Payment Format: string, Is Laundering: string]"
      ]
     },
     "execution_count": 7,
     "metadata": {},
     "output_type": "execute_result"
    }
   ],
   "source": [
    "print(\"Numero de elementos: \",df_part.count())\n",
    "df_part.describe()"
   ]
  },
  {
   "cell_type": "code",
   "execution_count": 8,
   "id": "f02d250e-60ea-44d5-a54e-9900eaa3f068",
   "metadata": {},
   "outputs": [],
   "source": [
    "df = df_part\n"
   ]
  },
  {
   "cell_type": "markdown",
   "id": "G1pVsjx2cMDO",
   "metadata": {
    "id": "G1pVsjx2cMDO"
   },
   "source": [
    "# **Preparación de los Datos**"
   ]
  },
  {
   "cell_type": "code",
   "execution_count": 9,
   "id": "3b47dd08-2172-4d69-ab65-5912e2698641",
   "metadata": {},
   "outputs": [
    {
     "name": "stdout",
     "output_type": "stream",
     "text": [
      "root\n",
      " |-- Timestamp: string (nullable = true)\n",
      " |-- From Bank: integer (nullable = true)\n",
      " |-- Account2: string (nullable = true)\n",
      " |-- To Bank: integer (nullable = true)\n",
      " |-- Account4: string (nullable = true)\n",
      " |-- Amount Received: double (nullable = true)\n",
      " |-- Receiving Currency: string (nullable = true)\n",
      " |-- Amount Paid: double (nullable = true)\n",
      " |-- Payment Currency: string (nullable = true)\n",
      " |-- Payment Format: string (nullable = true)\n",
      " |-- Is Laundering: integer (nullable = true)\n",
      "\n"
     ]
    }
   ],
   "source": [
    "import pyspark.sql.functions as F\n",
    "# Imprimiendo el esquema del Dataframe\n",
    "df.printSchema()"
   ]
  },
  {
   "cell_type": "code",
   "execution_count": 10,
   "id": "0ff20293-d186-4fbd-8755-d4dcb21027fd",
   "metadata": {},
   "outputs": [
    {
     "data": {
      "text/plain": [
       "DataFrame[Timestamp: bigint, From Bank: bigint, Account2: bigint, To Bank: bigint, Account4: bigint, Amount Received: bigint, Receiving Currency: bigint, Amount Paid: bigint, Payment Currency: bigint, Payment Format: bigint, Is Laundering: bigint]"
      ]
     },
     "metadata": {},
     "output_type": "display_data"
    }
   ],
   "source": [
    "# Imprimiendo datos nulos\n",
    "display(df.select([count(when(col(c).isNull(), c)).alias(c) for c in df.columns]))"
   ]
  },
  {
   "cell_type": "code",
   "execution_count": 11,
   "id": "92e3a0d6-cf66-4af8-bab9-b08b88a50858",
   "metadata": {},
   "outputs": [
    {
     "data": {
      "text/plain": [
       "DataFrame[Is Laundering: int, count: bigint, percent: double]"
      ]
     },
     "metadata": {},
     "output_type": "display_data"
    }
   ],
   "source": [
    "# Distribución de lavado de dinero\n",
    "df_temp = df.groupby('Is Laundering').count()\n",
    "display(df_temp.withColumn('percent', (df_temp['count']/df.count()) * 100))"
   ]
  },
  {
   "cell_type": "code",
   "execution_count": 48,
   "id": "3d1533c0-11c4-4929-bf68-14b18fa2f708",
   "metadata": {},
   "outputs": [
    {
     "data": {
      "image/png": "[encoded data removed]",
      "text/plain": [
       "<Figure size 600x700 with 1 Axes>"
      ]
     },
     "metadata": {},
     "output_type": "display_data"
    }
   ],
   "source": [
    "df_temp = df.toPandas()\n",
    "# Boxplot de cantidades de dinero recibidas por divisa\n",
    "plot = df_temp.boxplot(column='Amount Received', by='Payment Currency', fontsize='small', figsize=(6,7))"
   ]
  },
  {
   "cell_type": "code",
   "execution_count": 12,
   "id": "148cc651-73f9-4540-ba47-2961119ead43",
   "metadata": {},
   "outputs": [],
   "source": [
    "# Codificador One-Hot para la variable Payment Format\n",
    "from pyspark.ml.feature import StringIndexer, OneHotEncoder\n",
    "stringIndexer = StringIndexer(inputCol=\"Payment Format\", outputCol=\"payment_format_index\")\n",
    "model = stringIndexer.fit(df)\n",
    "indexed = model.transform(df)\n",
    "encoder = OneHotEncoder(dropLast=False, inputCol=\"payment_format_index\", outputCol=\"payment_format_vec\")\n",
    "encoder = encoder.fit(indexed)\n",
    "encoded = encoder.transform(indexed)\n",
    "df = encoded\n",
    "\n",
    "# Codificador One-Hot para la variable Currency\n",
    "stringIndexer = StringIndexer(inputCol=\"Payment Currency\", outputCol=\"payment_currency_index\")\n",
    "model = stringIndexer.fit(df)\n",
    "indexed = model.transform(df)\n",
    "encoder = OneHotEncoder(dropLast=False, inputCol=\"payment_currency_index\", outputCol=\"payment_currency_vec\")\n",
    "encoder = encoder.fit(indexed)\n",
    "encoded = encoder.transform(indexed)\n",
    "df = encoded"
   ]
  },
  {
   "cell_type": "code",
   "execution_count": 13,
   "id": "f9adf425-0fc9-4605-bba3-feb3d2454987",
   "metadata": {},
   "outputs": [],
   "source": [
    "# Función para determinar si la transacción fue realizad entre un mismo banco\n",
    "df = df.withColumn('is_same_bank', (F.col('From Bank') == F.col('To Bank')).cast('integer'))"
   ]
  },
  {
   "cell_type": "code",
   "execution_count": 15,
   "id": "1b0fa300-eebb-4db7-9b74-b8feccf599b3",
   "metadata": {},
   "outputs": [],
   "source": [
    "# Balanceo de clases puesto que la cantidad de fraudes es muy reducida\n",
    "minority_df = df.filter(col('Is Laundering') == 1)\n",
    "majority_df = df.filter(col('Is Laundering') == 0)\n",
    "\n",
    "oversampled_minority_df = minority_df.sample(withReplacement=True, fraction=20.0, seed=42)\n",
    "df  = majority_df.union(oversampled_minority_df)\n"
   ]
  },
  {
   "cell_type": "markdown",
   "id": "b4a0cf8e-146b-4910-bfa7-dce86748e69b",
   "metadata": {
    "id": "G1pVsjx2cMDO"
   },
   "source": [
    "# **2. Construcción Train – Test**\n",
    "## **Preparación del Conjunto de Entrenamiento y Prueba**"
   ]
  },
  {
   "cell_type": "markdown",
   "id": "3e095757-463b-46dc-938f-c69829f3381c",
   "metadata": {
    "id": "9DHR_qmaTWQw"
   },
   "source": [
    "Como se menciona en el reporte \"Why 70/30 or 80/20 Relation Between Training and Testing Sets: A Pedagogical Explanation\" de la Universidad de Texas (2018) al realizar ajustes de modelos a partir de datos, para evitar el sobreajuste, es importante dividir los datos en el conjunto de entrenamiento y el conjunto de prueba. Primero se entrena el modelo con el conjunto de entrenamiento y luego usamos los datos del conjunto de prueba para evaluar la precisión del modelo resultante. Estudios empíricos demuestran que los mejores resultados se obtienen si utilizamos entre el 20 % y el 30 % de los datos para las pruebas y el 70 % u 80 % restante para el entrenamiento.\n",
    "\n",
    "Fuente: https://scholarworks.utep.edu/cs_techrep/1209/#:~:text=We%20first%20train%20our%20model,of%20the%20data%20for%20training."
   ]
  },
  {
   "cell_type": "code",
   "execution_count": 16,
   "id": "8f27681f-d9e3-47c4-a9e1-6b15a29b5dd9",
   "metadata": {},
   "outputs": [],
   "source": [
    "# Separación de conjuntos de datos de entrenamiento y de pruebas\n",
    "train_data, test_data = df.randomSplit([0.7, .3])"
   ]
  },
  {
   "cell_type": "markdown",
   "id": "b2d153e0-c341-4c31-97b7-4b28cd715b94",
   "metadata": {
    "id": "G1pVsjx2cMDO"
   },
   "source": [
    "# **3. Selección de métricas para medir calidad de resultados**"
   ]
  },
  {
   "cell_type": "markdown",
   "id": "af42d3c0-ddb6-43ce-9425-bfeab6520062",
   "metadata": {
    "id": "9DHR_qmaTWQw"
   },
   "source": [
    "Se seleccionó la métrica ROC para calificar el modelo de regresión logística puesto que ROC AUC (Área Bajo la Curva ROC) es especialmente importante en problemas de clasificación, incluyendo aquellos en los que se utiliza regresión logística. Esto se debe a que la regresión logística produce probabilidades de pertenencia a una clase, no etiquetas directamente y ROC AUC mide qué tan bien el modelo separa las clases positivas de las negativas.La interpretación de esta métrica consiste en la probabilidad de que el modelo asigne una probabilidad más alta a una instancia positiva que a una negativa elegida al azar."
   ]
  },
  {
   "cell_type": "markdown",
   "id": "346a8648-175e-4453-a83b-4c850eb4b64d",
   "metadata": {
    "id": "G1pVsjx2cMDO"
   },
   "source": [
    "# **4. Entrenamiento de Modelos de Aprendizaje**"
   ]
  },
  {
   "cell_type": "markdown",
   "id": "fcd431cb-88db-412c-ba4d-7eec994b75af",
   "metadata": {
    "id": "G1pVsjx2cMDO"
   },
   "source": [
    "## **Supervisado: Regresión Logística**"
   ]
  },
  {
   "cell_type": "code",
   "execution_count": 17,
   "id": "92eaaba0-95d7-4e3d-80b2-7c15d3925349",
   "metadata": {},
   "outputs": [],
   "source": [
    "from pyspark.ml.feature import StringIndexer, VectorAssembler, OneHotEncoder, StandardScaler\n",
    "from pyspark.ml.classification import LogisticRegression\n",
    "from pyspark.ml.evaluation import MulticlassClassificationEvaluator\n",
    "from pyspark.ml.tuning import CrossValidator, ParamGridBuilder\n",
    "from pyspark.ml import Pipeline"
   ]
  },
  {
   "cell_type": "code",
   "execution_count": 18,
   "id": "c1c677d2-12b4-4fee-a073-272662c63ed7",
   "metadata": {},
   "outputs": [],
   "source": [
    "assembler = VectorAssembler(inputCols=['payment_format_vec',\n",
    "                                       'payment_currency_vec','Amount Received','is_same_bank'],\n",
    "                                    outputCol='features')\n",
    "# Escalamiento de la columna features\n",
    "scaler = StandardScaler(inputCol=\"features\", outputCol=\"scaled_features\")"
   ]
  },
  {
   "cell_type": "code",
   "execution_count": 19,
   "id": "42a28dbd-e234-406a-919b-912cc4086121",
   "metadata": {},
   "outputs": [
    {
     "name": "stdout",
     "output_type": "stream",
     "text": [
      "+----------------+---------+---------+-------+---------+---------------+------------------+-----------+----------------+--------------+-------------+--------------------+------------------+----------------------+--------------------+------------+--------------------+--------------------+--------------------+--------------------+----------+\n",
      "|       Timestamp|From Bank| Account2|To Bank| Account4|Amount Received|Receiving Currency|Amount Paid|Payment Currency|Payment Format|Is Laundering|payment_format_index|payment_format_vec|payment_currency_index|payment_currency_vec|is_same_bank|            features|     scaled_features|       rawPrediction|         probability|prediction|\n",
      "+----------------+---------+---------+-------+---------+---------------+------------------+-----------+----------------+--------------+-------------+--------------------+------------------+----------------------+--------------------+------------+--------------------+--------------------+--------------------+--------------------+----------+\n",
      "|2022/09/01 00:00|        0|80038E020|      0|80038E020|           9.69|         US Dollar|       9.69|       US Dollar|  Reinvestment|            0|                 3.0|     (4,[3],[1.0])|                   0.0|       (4,[0],[1.0])|           1|(10,[3,4,8,9],[1....|(10,[3,4,8,9],[3....|[36.6855526630866...|[0.99999999999999...|       0.0|\n",
      "|2022/09/01 00:00|        0|8004B4590|  22677|801761560|       28858.37|         US Dollar|   28858.37|       US Dollar|   Credit Card|            0|                 1.0|     (4,[1],[1.0])|                   0.0|       (4,[0],[1.0])|           0|(10,[1,4,8],[1.0,...|(10,[1,4,8],[2.11...|[5.68910785844687...|[0.99662879408275...|       0.0|\n",
      "|2022/09/01 00:00|        0|800E10380|      0|800E10380|      168246.31|         US Dollar|  168246.31|       US Dollar|  Reinvestment|            0|                 3.0|     (4,[3],[1.0])|                   0.0|       (4,[0],[1.0])|           1|(10,[3,4,8,9],[1....|(10,[3,4,8,9],[3....|[36.6855952974439...|[0.99999999999999...|       0.0|\n",
      "|2022/09/01 00:00|        0|801216340|      0|801216340|          13.45|         US Dollar|      13.45|       US Dollar|  Reinvestment|            0|                 3.0|     (4,[3],[1.0])|                   0.0|       (4,[0],[1.0])|           1|(10,[3,4,8,9],[1....|(10,[3,4,8,9],[3....|[36.6855526640394...|[0.99999999999999...|       0.0|\n",
      "|2022/09/01 00:00|        0|801D92330|      0|801D92330|        8003.85|         US Dollar|    8003.85|       US Dollar|  Reinvestment|            0|                 3.0|     (4,[3],[1.0])|                   0.0|       (4,[0],[1.0])|           1|(10,[3,4,8,9],[1....|(10,[3,4,8,9],[3....|[36.6855546889587...|[0.99999999999999...|       0.0|\n",
      "|2022/09/01 00:00|        0|8029FEBA0|      0|8029FEBA0|           3.22|         US Dollar|       3.22|       US Dollar|  Reinvestment|            0|                 3.0|     (4,[3],[1.0])|                   0.0|       (4,[0],[1.0])|           1|(10,[3,4,8,9],[1....|(10,[3,4,8,9],[3....|[36.6855526614469...|[0.99999999999999...|       0.0|\n",
      "|2022/09/01 00:00|        0|808725EE0|      0|808725EE0|            8.2|         US Dollar|        8.2|       US Dollar|  Reinvestment|            0|                 3.0|     (4,[3],[1.0])|                   0.0|       (4,[0],[1.0])|           1|(10,[3,4,8,9],[1....|(10,[3,4,8,9],[3....|[36.6855526627090...|[0.99999999999999...|       0.0|\n",
      "|2022/09/01 00:00|        0|80D06B8E0|      0|80D06B8E0|        2302.46|         US Dollar|    2302.46|       US Dollar|  Reinvestment|            0|                 3.0|     (4,[3],[1.0])|                   0.0|       (4,[0],[1.0])|           1|(10,[3,4,8,9],[1....|(10,[3,4,8,9],[3....|[36.6855532441181...|[0.99999999999999...|       0.0|\n",
      "|2022/09/01 00:00|        0|80D1EA280|  79502|8380B7E90|       22245.77|         US Dollar|   22245.77|       US Dollar|   Credit Card|            0|                 1.0|     (4,[1],[1.0])|                   0.0|       (4,[0],[1.0])|           0|(10,[1,4,8],[1.0,...|(10,[1,4,8],[2.11...|[5.68910618268834...|[0.99662878845247...|       0.0|\n",
      "|2022/09/01 00:00|        0|80D8438D0|      0|80D8438D0|          14.12|         US Dollar|      14.12|       US Dollar|  Reinvestment|            0|                 3.0|     (4,[3],[1.0])|                   0.0|       (4,[0],[1.0])|           1|(10,[3,4,8,9],[1....|(10,[3,4,8,9],[3....|[36.6855526642092...|[0.99999999999999...|       0.0|\n",
      "|2022/09/01 00:00|        0|80E1B2150|2156974|839FDDA70|       39422.66|         US Dollar|   39422.66|       US Dollar|        Cheque|            0|                 0.0|     (4,[0],[1.0])|                   0.0|       (4,[0],[1.0])|           0|(10,[0,4,8],[1.0,...|(10,[0,4,8],[2.00...|[5.61085742621154...|[0.99635540009091...|       0.0|\n",
      "|2022/09/01 00:00|        0|815361C40|   1818|81A7D5050|      285037.01|         US Dollar|  285037.01|       US Dollar|        Cheque|            0|                 0.0|     (4,[0],[1.0])|                   0.0|       (4,[0],[1.0])|           0|(10,[0,4,8],[1.0,...|(10,[0,4,8],[2.00...|[5.61091966955648...|[0.99635562610923...|       0.0|\n",
      "|2022/09/01 00:00|        0|83F940C60|      0|83F940C60|       43059.49|         US Dollar|   43059.49|       US Dollar|  Reinvestment|            0|                 3.0|     (4,[3],[1.0])|                   0.0|       (4,[0],[1.0])|           1|(10,[3,4,8,9],[1....|(10,[3,4,8,9],[3....|[36.6855635727242...|[0.99999999999999...|       0.0|\n",
      "|2022/09/01 00:00|        0|845A37020|      0|845A37020|       46485.64|         US Dollar|   46485.64|       US Dollar|  Reinvestment|            0|                 3.0|     (4,[3],[1.0])|                   0.0|       (4,[0],[1.0])|           1|(10,[3,4,8,9],[1....|(10,[3,4,8,9],[3....|[36.6855644409757...|[0.99999999999999...|       0.0|\n",
      "|2022/09/01 00:00|       11|800E79E10|     11|800E79E10|          13.07|         US Dollar|      13.07|       US Dollar|  Reinvestment|            0|                 3.0|     (4,[3],[1.0])|                   0.0|       (4,[0],[1.0])|           1|(10,[3,4,8,9],[1....|(10,[3,4,8,9],[3....|[36.6855526639431...|[0.99999999999999...|       0.0|\n",
      "|2022/09/01 00:00|       11|800EEB310|     11|800EEB310|      858916.36|         US Dollar|  858916.36|       US Dollar|  Reinvestment|            0|                 3.0|     (4,[3],[1.0])|                   0.0|       (4,[0],[1.0])|           1|(10,[3,4,8,9],[1....|(10,[3,4,8,9],[3....|[36.6857703263629...|[0.99999999999999...|       0.0|\n",
      "|2022/09/01 00:00|       11|80486FA90|     11|80486FA90|        2132.25|         US Dollar|    2132.25|       US Dollar|  Reinvestment|            0|                 3.0|     (4,[3],[1.0])|                   0.0|       (4,[0],[1.0])|           1|(10,[3,4,8,9],[1....|(10,[3,4,8,9],[3....|[36.6855532009836...|[0.99999999999999...|       0.0|\n",
      "|2022/09/01 00:00|       11|804E224C0|  15333|813A907D0|       10560.96|         US Dollar|   10560.96|       US Dollar|        Cheque|            0|                 0.0|     (4,[0],[1.0])|                   0.0|       (4,[0],[1.0])|           0|(10,[0,4,8],[1.0,...|(10,[0,4,8],[2.00...|[5.61085011210816...|[0.99635537353098...|       0.0|\n",
      "|2022/09/01 00:00|       11|808B1E120|     11|808B1E120|         372.41|         US Dollar|     372.41|       US Dollar|  Reinvestment|            0|                 3.0|     (4,[3],[1.0])|                   0.0|       (4,[0],[1.0])|           1|(10,[3,4,8,9],[1....|(10,[3,4,8,9],[3....|[36.6855527550067...|[0.99999999999999...|       0.0|\n",
      "|2022/09/01 00:00|       20|800226AE0|1122917|83E6913E0|       14930.27|         US Dollar|   14930.27|       US Dollar|        Cheque|            0|                 0.0|     (4,[0],[1.0])|                   0.0|       (4,[0],[1.0])|           0|(10,[0,4,8],[1.0,...|(10,[0,4,8],[2.00...|[5.61085121937436...|[0.99635537755184...|       0.0|\n",
      "+----------------+---------+---------+-------+---------+---------------+------------------+-----------+----------------+--------------+-------------+--------------------+------------------+----------------------+--------------------+------------+--------------------+--------------------+--------------------+--------------------+----------+\n",
      "only showing top 20 rows\n",
      "\n"
     ]
    }
   ],
   "source": [
    "log_reg = LogisticRegression(featuresCol='scaled_features',\n",
    "                             labelCol='Is Laundering')\n",
    "\n",
    "# Creación de la pipeline\n",
    "pipeline = Pipeline(stages=[assembler, scaler, log_reg])\n",
    "\n",
    "fit_model = pipeline.fit(train_data)\n",
    "\n",
    "# Almacenamiento y muestra de resultados\n",
    "results = fit_model.transform(test_data)\n",
    "results.show()"
   ]
  },
  {
   "cell_type": "code",
   "execution_count": 20,
   "id": "b38a85d0-275e-4958-8be6-5b643af7abda",
   "metadata": {},
   "outputs": [],
   "source": [
    "# Evaluador\n",
    "from pyspark.ml.evaluation import BinaryClassificationEvaluator\n",
    "\n",
    "# Calling the evaluator\n",
    "res = BinaryClassificationEvaluator(rawPredictionCol='prediction',labelCol='Is Laundering')\n",
    "\n",
    "# Evaluating the AUC on results\n",
    "ROC_AUC = res.evaluate(results)"
   ]
  },
  {
   "cell_type": "code",
   "execution_count": 21,
   "id": "e9c8e2d7-f76a-42b9-973c-cc40fc30cb0d",
   "metadata": {},
   "outputs": [
    {
     "name": "stdout",
     "output_type": "stream",
     "text": [
      "+----------------+---------+---------+-------+---------+---------------+------------------+-----------+----------------+--------------+-------------+--------------------+------------------+----------------------+--------------------+------------+--------------------+--------------------+--------------------+--------------------+----------+\n",
      "|       Timestamp|From Bank| Account2|To Bank| Account4|Amount Received|Receiving Currency|Amount Paid|Payment Currency|Payment Format|Is Laundering|payment_format_index|payment_format_vec|payment_currency_index|payment_currency_vec|is_same_bank|            features|     scaled_features|       rawPrediction|         probability|prediction|\n",
      "+----------------+---------+---------+-------+---------+---------------+------------------+-----------+----------------+--------------+-------------+--------------------+------------------+----------------------+--------------------+------------+--------------------+--------------------+--------------------+--------------------+----------+\n",
      "|2022/09/01 00:00|        0|80038E020|      0|80038E020|           9.69|         US Dollar|       9.69|       US Dollar|  Reinvestment|            0|                 3.0|     (4,[3],[1.0])|                   0.0|       (4,[0],[1.0])|           1|(10,[3,4,8,9],[1....|(10,[3,4,8,9],[3....|[36.6855526630866...|[0.99999999999999...|       0.0|\n",
      "|2022/09/01 00:00|        0|8004B4590|  22677|801761560|       28858.37|         US Dollar|   28858.37|       US Dollar|   Credit Card|            0|                 1.0|     (4,[1],[1.0])|                   0.0|       (4,[0],[1.0])|           0|(10,[1,4,8],[1.0,...|(10,[1,4,8],[2.11...|[5.68910785844687...|[0.99662879408275...|       0.0|\n",
      "|2022/09/01 00:00|        0|800E10380|      0|800E10380|      168246.31|         US Dollar|  168246.31|       US Dollar|  Reinvestment|            0|                 3.0|     (4,[3],[1.0])|                   0.0|       (4,[0],[1.0])|           1|(10,[3,4,8,9],[1....|(10,[3,4,8,9],[3....|[36.6855952974439...|[0.99999999999999...|       0.0|\n",
      "|2022/09/01 00:00|        0|801216340|      0|801216340|          13.45|         US Dollar|      13.45|       US Dollar|  Reinvestment|            0|                 3.0|     (4,[3],[1.0])|                   0.0|       (4,[0],[1.0])|           1|(10,[3,4,8,9],[1....|(10,[3,4,8,9],[3....|[36.6855526640394...|[0.99999999999999...|       0.0|\n",
      "|2022/09/01 00:00|        0|801D92330|      0|801D92330|        8003.85|         US Dollar|    8003.85|       US Dollar|  Reinvestment|            0|                 3.0|     (4,[3],[1.0])|                   0.0|       (4,[0],[1.0])|           1|(10,[3,4,8,9],[1....|(10,[3,4,8,9],[3....|[36.6855546889587...|[0.99999999999999...|       0.0|\n",
      "|2022/09/01 00:00|        0|8029FEBA0|      0|8029FEBA0|           3.22|         US Dollar|       3.22|       US Dollar|  Reinvestment|            0|                 3.0|     (4,[3],[1.0])|                   0.0|       (4,[0],[1.0])|           1|(10,[3,4,8,9],[1....|(10,[3,4,8,9],[3....|[36.6855526614469...|[0.99999999999999...|       0.0|\n",
      "|2022/09/01 00:00|        0|808725EE0|      0|808725EE0|            8.2|         US Dollar|        8.2|       US Dollar|  Reinvestment|            0|                 3.0|     (4,[3],[1.0])|                   0.0|       (4,[0],[1.0])|           1|(10,[3,4,8,9],[1....|(10,[3,4,8,9],[3....|[36.6855526627090...|[0.99999999999999...|       0.0|\n",
      "|2022/09/01 00:00|        0|80D06B8E0|      0|80D06B8E0|        2302.46|         US Dollar|    2302.46|       US Dollar|  Reinvestment|            0|                 3.0|     (4,[3],[1.0])|                   0.0|       (4,[0],[1.0])|           1|(10,[3,4,8,9],[1....|(10,[3,4,8,9],[3....|[36.6855532441181...|[0.99999999999999...|       0.0|\n",
      "|2022/09/01 00:00|        0|80D1EA280|  79502|8380B7E90|       22245.77|         US Dollar|   22245.77|       US Dollar|   Credit Card|            0|                 1.0|     (4,[1],[1.0])|                   0.0|       (4,[0],[1.0])|           0|(10,[1,4,8],[1.0,...|(10,[1,4,8],[2.11...|[5.68910618268834...|[0.99662878845247...|       0.0|\n",
      "|2022/09/01 00:00|        0|80D8438D0|      0|80D8438D0|          14.12|         US Dollar|      14.12|       US Dollar|  Reinvestment|            0|                 3.0|     (4,[3],[1.0])|                   0.0|       (4,[0],[1.0])|           1|(10,[3,4,8,9],[1....|(10,[3,4,8,9],[3....|[36.6855526642092...|[0.99999999999999...|       0.0|\n",
      "|2022/09/01 00:00|        0|80E1B2150|2156974|839FDDA70|       39422.66|         US Dollar|   39422.66|       US Dollar|        Cheque|            0|                 0.0|     (4,[0],[1.0])|                   0.0|       (4,[0],[1.0])|           0|(10,[0,4,8],[1.0,...|(10,[0,4,8],[2.00...|[5.61085742621154...|[0.99635540009091...|       0.0|\n",
      "|2022/09/01 00:00|        0|815361C40|   1818|81A7D5050|      285037.01|         US Dollar|  285037.01|       US Dollar|        Cheque|            0|                 0.0|     (4,[0],[1.0])|                   0.0|       (4,[0],[1.0])|           0|(10,[0,4,8],[1.0,...|(10,[0,4,8],[2.00...|[5.61091966955648...|[0.99635562610923...|       0.0|\n",
      "|2022/09/01 00:00|        0|83F940C60|      0|83F940C60|       43059.49|         US Dollar|   43059.49|       US Dollar|  Reinvestment|            0|                 3.0|     (4,[3],[1.0])|                   0.0|       (4,[0],[1.0])|           1|(10,[3,4,8,9],[1....|(10,[3,4,8,9],[3....|[36.6855635727242...|[0.99999999999999...|       0.0|\n",
      "|2022/09/01 00:00|        0|845A37020|      0|845A37020|       46485.64|         US Dollar|   46485.64|       US Dollar|  Reinvestment|            0|                 3.0|     (4,[3],[1.0])|                   0.0|       (4,[0],[1.0])|           1|(10,[3,4,8,9],[1....|(10,[3,4,8,9],[3....|[36.6855644409757...|[0.99999999999999...|       0.0|\n",
      "|2022/09/01 00:00|       11|800E79E10|     11|800E79E10|          13.07|         US Dollar|      13.07|       US Dollar|  Reinvestment|            0|                 3.0|     (4,[3],[1.0])|                   0.0|       (4,[0],[1.0])|           1|(10,[3,4,8,9],[1....|(10,[3,4,8,9],[3....|[36.6855526639431...|[0.99999999999999...|       0.0|\n",
      "|2022/09/01 00:00|       11|800EEB310|     11|800EEB310|      858916.36|         US Dollar|  858916.36|       US Dollar|  Reinvestment|            0|                 3.0|     (4,[3],[1.0])|                   0.0|       (4,[0],[1.0])|           1|(10,[3,4,8,9],[1....|(10,[3,4,8,9],[3....|[36.6857703263629...|[0.99999999999999...|       0.0|\n",
      "|2022/09/01 00:00|       11|80486FA90|     11|80486FA90|        2132.25|         US Dollar|    2132.25|       US Dollar|  Reinvestment|            0|                 3.0|     (4,[3],[1.0])|                   0.0|       (4,[0],[1.0])|           1|(10,[3,4,8,9],[1....|(10,[3,4,8,9],[3....|[36.6855532009836...|[0.99999999999999...|       0.0|\n",
      "|2022/09/01 00:00|       11|804E224C0|  15333|813A907D0|       10560.96|         US Dollar|   10560.96|       US Dollar|        Cheque|            0|                 0.0|     (4,[0],[1.0])|                   0.0|       (4,[0],[1.0])|           0|(10,[0,4,8],[1.0,...|(10,[0,4,8],[2.00...|[5.61085011210816...|[0.99635537353098...|       0.0|\n",
      "|2022/09/01 00:00|       11|808B1E120|     11|808B1E120|         372.41|         US Dollar|     372.41|       US Dollar|  Reinvestment|            0|                 3.0|     (4,[3],[1.0])|                   0.0|       (4,[0],[1.0])|           1|(10,[3,4,8,9],[1....|(10,[3,4,8,9],[3....|[36.6855527550067...|[0.99999999999999...|       0.0|\n",
      "|2022/09/01 00:00|       20|800226AE0|1122917|83E6913E0|       14930.27|         US Dollar|   14930.27|       US Dollar|        Cheque|            0|                 0.0|     (4,[0],[1.0])|                   0.0|       (4,[0],[1.0])|           0|(10,[0,4,8],[1.0,...|(10,[0,4,8],[2.00...|[5.61085121937436...|[0.99635537755184...|       0.0|\n",
      "+----------------+---------+---------+-------+---------+---------------+------------------+-----------+----------------+--------------+-------------+--------------------+------------------+----------------------+--------------------+------------+--------------------+--------------------+--------------------+--------------------+----------+\n",
      "only showing top 20 rows\n",
      "\n",
      "Test Accuracy: 1.00\n"
     ]
    }
   ],
   "source": [
    "# Evaluador\n",
    "predictions = fit_model.transform(test_data)\n",
    "predictions.show()\n",
    "evaluator = MulticlassClassificationEvaluator(labelCol=\"Is Laundering\", predictionCol=\"prediction\", metricName=\"accuracy\")\n",
    "accuracy = evaluator.evaluate(predictions)\n",
    "\n",
    "print(f\"Test Accuracy: {accuracy:.2f}\")"
   ]
  },
  {
   "cell_type": "code",
   "execution_count": 22,
   "id": "519ae059-f8f0-4f9a-ab1e-9633ad136810",
   "metadata": {},
   "outputs": [
    {
     "data": {
      "text/plain": [
       "0.5"
      ]
     },
     "execution_count": 22,
     "metadata": {},
     "output_type": "execute_result"
    }
   ],
   "source": [
    "ROC_AUC"
   ]
  },
  {
   "cell_type": "markdown",
   "id": "19072eef-ec78-42f4-9866-bd600d36b578",
   "metadata": {
    "id": "G1pVsjx2cMDO"
   },
   "source": [
    "## **5. Análisis de Resultados**"
   ]
  },
  {
   "cell_type": "markdown",
   "id": "e8953988-c2b7-4439-8b0d-6be993146c1e",
   "metadata": {
    "id": "9DHR_qmaTWQw"
   },
   "source": [
    "Fue posible concluir que es posible realizar operaciones de aprendizaje automático con PySpark tanto con modelos supervisados y no supervisados.\n",
    "Se encontró que el preprocesamiento de los datos funge un papel crítico para el entrenamiento de los modelos en la fase posterior y en gran medida determina el éxito de esta etapa. Particularmente, debido a la naturaleza de los datos del dataset propuesto en esta actividad, fue necesario realizar varias transformación de variables categóricas a numéricas mediante la técnica de One-Hot enconding para habilitar el modelo de regresión logística puesto se requería de valores numéricos y no categóricos. Además, por la cantidad mínima de eventos de fraude, fue necesario realizar un balanceo de clases donde se duplicaron la clase minoritaria para maximizar el rendimiento del modelo.\n",
    "\n",
    "El modelo de regresión logística no otorgó resultados óptimos como lo demuestra el área bajo la curva ROC-AUC que fue de 0.5, y donde se esperaba valores mayores a 0.8 para ser considerado un buen modelo. Esto se puede deber al balanceo de clases donde la proporción de la clase positiva a la negativa era de 99:1 por lo que en búsqueda de incrementar el rendimiento del modelo se podría usar técnicas de balanceo de clases adicionales. Además, de forma similar al aprendizaje no supervisado, las características pudieran ser insuficientes para determinar de manera completa si una transacción financiera es de naturaleza ilícita."
   ]
  }
 ],
 "metadata": {
  "colab": {
   "provenance": []
  },
  "kernelspec": {
   "display_name": "Python 3 (ipykernel)",
   "language": "python",
   "name": "python3"
  },
  "language_info": {
   "codemirror_mode": {
    "name": "ipython",
    "version": 3
   },
   "file_extension": ".py",
   "mimetype": "text/x-python",
   "name": "python",
   "nbconvert_exporter": "python",
   "pygments_lexer": "ipython3",
   "version": "3.11.6"
  }
 },
 "nbformat": 4,
 "nbformat_minor": 5
}
